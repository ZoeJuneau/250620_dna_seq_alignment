{
 "cells": [
  {
   "cell_type": "code",
   "execution_count": 10,
   "id": "6975adc4-0771-4cdf-8c16-f80a85d15e0d",
   "metadata": {},
   "outputs": [],
   "source": [
    "from snapgene_reader import snapgene_file_to_seqrecord\n",
    "from snapgene_reader import snapgene_file_to_dict"
   ]
  },
  {
   "cell_type": "code",
   "execution_count": 21,
   "id": "c9b77a60-273a-4cb1-a4b6-626acf7c25e3",
   "metadata": {},
   "outputs": [
    {
     "name": "stdout",
     "output_type": "stream",
     "text": [
      "ATGGTGAGCAAGGGCGAGGAGCTGTTCACCGGGGTGGTGCCCATCCTGGTCGAGCTGGACGGCGACGTAAACGGCCACAAGTTCAGCGTGTCCGGCGAGGGCGAGGGCGATGCCACCTACGGCAAGCTGACCCTGAAGTTCATCTGCACCACCGGCAAGCTGCCCGTGCCCTGGCCCACCCTCGTGACCACCCTGACCTACGGCGTGCAGTGCTTCAGCCGCTACCCCGACCACATGAAGCAGCACGACTTCTTCAAGTCCGCCATGCCCGAAGGCTACGTCCAGGAGCGCACCATCTTCTTCAAGGACGACGGCAACTACAAGACCCGCGCCGAGGTGAAGTTCGAGGGCGACACCCTGGTGAACCGCATCGAGCTGAAGGGCATCGACTTCAAGGAGGACGGCAACATCCTGGGGCACAAGCTGGAGTACAACTACAACAGCCACAACGTCTATATCATGGCCGACAAGCAGAAGAACGGCATCAAGGTGAACTTCAAGATCCGCCACAACATCGAGGACGGCAGCGTGCAGCTCGCCGACCACTACCAGCAGAACACCCCCATCGGCGACGGCCCCGTGCTGCTGCCCGACAACCACTACCTGAGCACCCAGTCCGCCCTGAGCAAAGACCCCAACGAGAAGCGCGATCACATGGTCCTGCTGGAGTTCGTGACCGCCGCCGGGATCACTCTCGGCATGGACGAGCTGTACAAGTAA\n",
      "ATGGTGAGCAAGGGCGAGGAGCTGTTCACCGGGGTGGTGCCCATCCTGGTCGAGCTGGACGGCGACGTAAACGGCCACAAGTTCAGCGTGTCCGGCGAGGGCGAGGGCGATGCCACCTACGGCAAGCTGACCCTGAAGCTGATCTGCACCACCGGCAAGCTGCCCGTGCCCTGGCCCACCCTCGTGACCACCCTGGGCTACGGCGTGCAGTGCTTCGCCCGCTACCCCGACCACATGAAGCAGCACGACTTCTTCAAGTCCGCCATGCCCGAAGGCTACGTCCAGGAGCGCACCATCTTCTTCAAGGACGACGGCAACTACAAGACCCGCGCCGAGGTGAAGTTCGAGGGCGACACCCTGGTGAACCGCATCGAGCTGAAGGGCATCGACTTCAAGGAGGACGGCAACATCCTGGGGCACAAGCTGGAGTACAACTACAACAGCCACAACGTCTATATCACCGCCGACAAGCAGAAGAACGGCATCAAGGCCAACTTCAAGATCCGCCACAACATCGAGGACGGCGGCGTGCAGCTCGCCGACCACTACCAGCAGAACACCCCCATCGGCGACGGCCCCGTGCTGCTGCCCGACAACCACTACCTGAGCTACCAGTCCAAGCTGAGCAAAGACCCCAACGAGAAGCGCGATCACATGGTCCTGCTGGAGTTCGTGACCGCCGCCGGGATCACTCTCGGCATGGACGAGCTGTACAAG\n"
     ]
    }
   ],
   "source": [
    "egfp_filepath = \"EGFP.dna\"\n",
    "syfp2_filepath = \"sYFP2.dna\"\n",
    "#egfp_seqrecord = snapgene_file_to_seqrecord(egfp_filepath)\n",
    "#syfp2_seqrecord = snapgene_file_to_seqrecord(syfp2_filepath)\n",
    "\n",
    "egfp_dict = snapgene_file_to_dict(egfp_filepath)\n",
    "syfp2_dict = snapgene_file_to_dict(syfp2_filepath)\n",
    "\n",
    "print(egfp_seqrecord.seq)\n",
    "print(syfp2_seqrecord.seq)"
   ]
  },
  {
   "cell_type": "code",
   "execution_count": 26,
   "id": "42f0d368-bbfa-447e-8cad-cdcdd1e23e45",
   "metadata": {},
   "outputs": [],
   "source": [
    "egfp_nt_seq = egfp_dict['seq']\n",
    "syfp2_nt_seq = syfp2_dict['seq']"
   ]
  },
  {
   "cell_type": "code",
   "execution_count": null,
   "id": "08c17333-62ef-4d65-a12c-3937a8df52dc",
   "metadata": {},
   "outputs": [],
   "source": [
    "from Bio import pairwise2\n",
    "from Bio.pairwise2 import format_alignment\n",
    "\n",
    "def align_dna_sequences(seq1, seq2):\n",
    "    \"\"\"Performs global alignment of two DNA sequences using Biopython.\"\"\"\n",
    "    alignments = pairwise2.align.globalxx(seq1, seq2, one_alignment_only=True)\n",
    "    for a in alignments:\n",
    "        print(format_alignment(*a))\n",
    "\n",
    "# Example usage\n",
    "align_dna_sequences(egfp_nt_seq, syfp2_nt_seq)"
   ]
  },
  {
   "cell_type": "markdown",
   "id": "cb6dc64f-07b6-44ea-b2b1-e48d44a6931a",
   "metadata": {},
   "source": []
  },
  {
   "cell_type": "code",
   "execution_count": null,
   "id": "c1aca75c-8f14-412a-823f-137a4d9b129a",
   "metadata": {},
   "outputs": [],
   "source": []
  }
 ],
 "metadata": {
  "kernelspec": {
   "display_name": "Python 3 (ipykernel)",
   "language": "python",
   "name": "python3"
  },
  "language_info": {
   "codemirror_mode": {
    "name": "ipython",
    "version": 3
   },
   "file_extension": ".py",
   "mimetype": "text/x-python",
   "name": "python",
   "nbconvert_exporter": "python",
   "pygments_lexer": "ipython3",
   "version": "3.11.7"
  }
 },
 "nbformat": 4,
 "nbformat_minor": 5
}
