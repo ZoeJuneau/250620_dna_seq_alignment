{
 "cells": [
  {
   "cell_type": "code",
   "execution_count": 1,
   "id": "6975adc4-0771-4cdf-8c16-f80a85d15e0d",
   "metadata": {},
   "outputs": [],
   "source": [
    "from snapgene_reader import snapgene_file_to_seqrecord\n",
    "from snapgene_reader import snapgene_file_to_dict"
   ]
  },
  {
   "cell_type": "code",
   "execution_count": 3,
   "id": "c9b77a60-273a-4cb1-a4b6-626acf7c25e3",
   "metadata": {},
   "outputs": [],
   "source": [
    "egfp_filepath = \"EGFP.dna\"\n",
    "syfp2_filepath = \"sYFP2.dna\"\n",
    "#egfp_seqrecord = snapgene_file_to_seqrecord(egfp_filepath)\n",
    "#syfp2_seqrecord = snapgene_file_to_seqrecord(syfp2_filepath)\n",
    "\n",
    "egfp_dict = snapgene_file_to_dict(egfp_filepath)\n",
    "syfp2_dict = snapgene_file_to_dict(syfp2_filepath)"
   ]
  },
  {
   "cell_type": "code",
   "execution_count": 4,
   "id": "42f0d368-bbfa-447e-8cad-cdcdd1e23e45",
   "metadata": {},
   "outputs": [],
   "source": [
    "egfp_nt_seq = egfp_dict['seq']\n",
    "syfp2_nt_seq = syfp2_dict['seq']"
   ]
  },
  {
   "cell_type": "code",
   "execution_count": 5,
   "id": "08c17333-62ef-4d65-a12c-3937a8df52dc",
   "metadata": {},
   "outputs": [
    {
     "name": "stdout",
     "output_type": "stream",
     "text": [
      "ATGGTGAGCAAGGGCGAGGAGCTGTTCACCGGGGTGGTGCCCATCCTGGTCGAGCTGGACGGCGACGTAAACGGCCACAAGTTCAGCGTGTCCGGCGAGGGCGAGGGCGATGCCACCTACGGCAAGCTGACCCTGAAGTTC--ATCTGCACCACCGGCAAGCTGCCCGTGCCCTGGCCCACCCTCGTGACCACCCTGAC--CTACGGCGTGCAGTGCTTCAGCC-GCTACCCCGACCACATGAAGCAGCACGACTTCTTCAAGTCCGCCATGCCCGAAGGCTACGTCCAGGAGCGCACCATCTTCTTCAAGGACGACGGCAACTACAAGACCCGCGCCGAGGTGAAGTTCGAGGGCGACACCCTGGTGAACCGCATCGAGCTGAAGGGCATCGACTTCAAGGAGGACGGCAACATCCTGGGGCACAAGCTGGAGTACAACTACAACAGCCACAACGTCTATATCATG--GCCGACAAGCAGAAGAACGGCATCAAGGTG--AACTTCAAGATCCGCCACAACATCGAGGACGGCAG-CGTGCAGCTCGCCGACCACTACCAGCAGAACACCCCCATCGGCGACGGCCCCGTGCTGCTGCCCGACAACCACTACCTGAGC-ACCCAGTCC--GCCCTGAGCAAAGACCCCAACGAGAAGCGCGATCACATGGTCCTGCTGGAGTTCGTGACCGCCGCCGGGATCACTCTCGGCATGGACGAGCTGTACAAGTAA\n",
      "||||||||||||||||||||||||||||||||||||||||||||||||||||||||||||||||||||||||||||||||||||||||||||||||||||||||||||||||||||||||||||||||||||||||||  |  ||||||||||||||||||||||||||||||||||||||||||||||||||||||    ||||||||||||||||||| ||| ||||||||||||||||||||||||||||||||||||||||||||||||||||||||||||||||||||||||||||||||||||||||||||||||||||||||||||||||||||||||||||||||||||||||||||||||||||||||||||||||||||||||||||||||||||||||||||||||||||||||||||||||||||||||||||||||||||||||||||||||    |||||||||||||||||||||||||| | |  ||||||||||||||||||||||||||||||||| | |||||||||||||||||||||||||||||||||||||||||||||||||||||||||||||||||||||||||||||||||| | |||||||  |  ||||||||||||||||||||||||||||||||||||||||||||||||||||||||||||||||||||||||||||||||||||||||||||||||   \n",
      "ATGGTGAGCAAGGGCGAGGAGCTGTTCACCGGGGTGGTGCCCATCCTGGTCGAGCTGGACGGCGACGTAAACGGCCACAAGTTCAGCGTGTCCGGCGAGGGCGAGGGCGATGCCACCTACGGCAAGCTGACCCTGAAG--CTGATCTGCACCACCGGCAAGCTGCCCGTGCCCTGGCCCACCCTCGTGACCACCCTG--GGCTACGGCGTGCAGTGCTTC-GCCCGCTACCCCGACCACATGAAGCAGCACGACTTCTTCAAGTCCGCCATGCCCGAAGGCTACGTCCAGGAGCGCACCATCTTCTTCAAGGACGACGGCAACTACAAGACCCGCGCCGAGGTGAAGTTCGAGGGCGACACCCTGGTGAACCGCATCGAGCTGAAGGGCATCGACTTCAAGGAGGACGGCAACATCCTGGGGCACAAGCTGGAGTACAACTACAACAGCCACAACGTCTATATCA--CCGCCGACAAGCAGAAGAACGGCATCAA-G-GCCAACTTCAAGATCCGCCACAACATCGAGGACGGC-GGCGTGCAGCTCGCCGACCACTACCAGCAGAACACCCCCATCGGCGACGGCCCCGTGCTGCTGCCCGACAACCACTACCTGAGCTA-CCAGTCCAAG--CTGAGCAAAGACCCCAACGAGAAGCGCGATCACATGGTCCTGCTGGAGTTCGTGACCGCCGCCGGGATCACTCTCGGCATGGACGAGCTGTACAAG---\n",
      "  Score=704\n",
      "\n"
     ]
    },
    {
     "name": "stderr",
     "output_type": "stream",
     "text": [
      "C:\\Users\\zoe.juneau\\AppData\\Local\\anaconda3\\Lib\\site-packages\\Bio\\pairwise2.py:278: BiopythonDeprecationWarning: Bio.pairwise2 has been deprecated, and we intend to remove it in a future release of Biopython. As an alternative, please consider using Bio.Align.PairwiseAligner as a replacement, and contact the Biopython developers if you still need the Bio.pairwise2 module.\n",
      "  warnings.warn(\n"
     ]
    }
   ],
   "source": [
    "from Bio import pairwise2\n",
    "from Bio.pairwise2 import format_alignment\n",
    "\n",
    "def align_dna_sequences(seq1, seq2):\n",
    "    \"\"\"Performs global alignment of two DNA sequences using Biopython.\"\"\"\n",
    "    alignments = pairwise2.align.globalxx(seq1, seq2, one_alignment_only=True)\n",
    "    for a in alignments:\n",
    "        print(format_alignment(*a))\n",
    "\n",
    "# Example usage\n",
    "align_dna_sequences(egfp_nt_seq, syfp2_nt_seq)"
   ]
  },
  {
   "cell_type": "code",
   "execution_count": 6,
   "id": "8b5e6af4-af9c-4830-a5a1-6c8f8c35066e",
   "metadata": {},
   "outputs": [],
   "source": [
    "import matplotlib.pyplot as plt\n",
    "import numpy as np\n",
    "from Bio import pairwise2\n",
    "import matplotlib.patches as mpatches\n",
    "\n",
    "def simple_alignment_overview(seq1, seq2, seq1_name=\"Sequence 1\", seq2_name=\"Sequence 2\"):\n",
    "    \"\"\"\n",
    "    Create a simple, clean alignment overview visualization\n",
    "    \"\"\"\n",
    "    # Perform alignment\n",
    "    alignments = pairwise2.align.globalxx(seq1, seq2, one_alignment_only=True)\n",
    "    alignment = alignments[0]\n",
    "    \n",
    "    aligned_seq1, aligned_seq2, score, begin, end = alignment\n",
    "    \n",
    "    # Calculate basic statistics\n",
    "    matches = sum(1 for a, b in zip(aligned_seq1, aligned_seq2) if a == b and a != '-' and b != '-')\n",
    "    mismatches = sum(1 for a, b in zip(aligned_seq1, aligned_seq2) if a != b and a != '-' and b != '-')\n",
    "    identity = matches / (matches + mismatches) * 100 if (matches + mismatches) > 0 else 0\n",
    "    \n",
    "    # Create the visualization\n",
    "    fig, ax = plt.subplots(1, 1, figsize=(14, 4))\n",
    "    \n",
    "    # Alignment Overview Bar\n",
    "    alignment_length = len(aligned_seq1)\n",
    "    chunk_size = max(1, alignment_length // 1000)  # Adjust for very long sequences\n",
    "    \n",
    "    # Create color-coded alignment bar\n",
    "    colors = []\n",
    "    for i in range(0, alignment_length, chunk_size):\n",
    "        chunk1 = aligned_seq1[i:i+chunk_size]\n",
    "        chunk2 = aligned_seq2[i:i+chunk_size]\n",
    "        \n",
    "        chunk_matches = sum(1 for a, b in zip(chunk1, chunk2) if a == b and a != '-')\n",
    "        chunk_mismatches = sum(1 for a, b in zip(chunk1, chunk2) if a != b and a != '-' and b != '-')\n",
    "        chunk_gaps = sum(1 for a, b in zip(chunk1, chunk2) if a == '-' or b == '-')\n",
    "        \n",
    "        if chunk_gaps > chunk_matches + chunk_mismatches:\n",
    "            colors.append('#FF6B6B')  # Red for gaps\n",
    "        elif chunk_matches > chunk_mismatches:\n",
    "            colors.append('#4ECDC4')  # Teal for matches\n",
    "        else:\n",
    "            colors.append('#FFE66D')  # Yellow for mismatches\n",
    "    \n",
    "    # Plot alignment overview\n",
    "    x_positions = np.arange(len(colors))\n",
    "    ax.bar(x_positions, [1]*len(colors), color=colors, width=1, edgecolor='none')\n",
    "    ax.set_xlim(0, len(colors))\n",
    "    ax.set_ylim(0, 1)\n",
    "    ax.set_title(f'{seq1_name} vs {seq2_name} - Alignment Overview', fontweight='bold', fontsize=14)\n",
    "    ax.set_xlabel('Sequence Position')\n",
    "    ax.set_yticks([])\n",
    "    \n",
    "    # Add legend\n",
    "    match_patch = mpatches.Patch(color='#4ECDC4', label='Mostly Matches')\n",
    "    mismatch_patch = mpatches.Patch(color='#FFE66D', label='Mostly Mismatches')\n",
    "    gap_patch = mpatches.Patch(color='#FF6B6B', label='Gaps/Indels')\n",
    "    ax.legend(handles=[match_patch, mismatch_patch, gap_patch], loc='upper right')\n",
    "    \n",
    "    # Add summary statistics as text\n",
    "    stats_text = f'Score: {score:.0f} | Identity: {identity:.1f}% | Length: {alignment_length} bp'\n",
    "    ax.text(0.02, 0.85, stats_text, transform=ax.transAxes, fontsize=11, \n",
    "            bbox=dict(boxstyle=\"round,pad=0.3\", facecolor=\"white\", alpha=0.8))\n",
    "    \n",
    "    plt.tight_layout()\n",
    "    plt.show()\n",
    "    \n",
    "    return aligned_seq1, aligned_seq2, score\n",
    "\n",
    "# Example usage:\n",
    "# aligned_seq1, aligned_seq2, score = simple_alignment_overview(egfp_nt_seq, syfp2_nt_seq, \"EGFP\", \"SYFP2\")iz(egfp_nt_seq, syfp2_nt_seq, \r\n",
    "#                                                                   \"EGFP\", \"SYFP2\")\r\n",
    "# differences = create_difference_plot(egfp_nt_seq, syfp2_nt_seq, \"EGFP\", \"SYFP2\")"
   ]
  },
  {
   "cell_type": "code",
   "execution_count": 7,
   "id": "c1aca75c-8f14-412a-823f-137a4d9b129a",
   "metadata": {},
   "outputs": [
    {
     "ename": "NameError",
     "evalue": "name 'create_beautiful_alignment_viz' is not defined",
     "output_type": "error",
     "traceback": [
      "\u001b[1;31m---------------------------------------------------------------------------\u001b[0m",
      "\u001b[1;31mNameError\u001b[0m                                 Traceback (most recent call last)",
      "Cell \u001b[1;32mIn[7], line 1\u001b[0m\n\u001b[1;32m----> 1\u001b[0m aligned_seq1, aligned_seq2, score \u001b[38;5;241m=\u001b[39m create_beautiful_alignment_viz(egfp_nt_seq, syfp2_nt_seq, \n\u001b[0;32m      2\u001b[0m                                                                   \u001b[38;5;124m\"\u001b[39m\u001b[38;5;124mEGFP\u001b[39m\u001b[38;5;124m\"\u001b[39m, \u001b[38;5;124m\"\u001b[39m\u001b[38;5;124mSYFP2\u001b[39m\u001b[38;5;124m\"\u001b[39m)\n",
      "\u001b[1;31mNameError\u001b[0m: name 'create_beautiful_alignment_viz' is not defined"
     ]
    }
   ],
   "source": [
    "aligned_seq1, aligned_seq2, score = create_beautiful_alignment_viz(egfp_nt_seq, syfp2_nt_seq, \n",
    "                                                                  \"EGFP\", \"SYFP2\")"
   ]
  },
  {
   "cell_type": "code",
   "execution_count": null,
   "id": "0ee12beb-ddb1-4e6c-ae89-d2cd0218a651",
   "metadata": {},
   "outputs": [],
   "source": []
  }
 ],
 "metadata": {
  "kernelspec": {
   "display_name": "Python 3 (ipykernel)",
   "language": "python",
   "name": "python3"
  },
  "language_info": {
   "codemirror_mode": {
    "name": "ipython",
    "version": 3
   },
   "file_extension": ".py",
   "mimetype": "text/x-python",
   "name": "python",
   "nbconvert_exporter": "python",
   "pygments_lexer": "ipython3",
   "version": "3.11.7"
  }
 },
 "nbformat": 4,
 "nbformat_minor": 5
}
